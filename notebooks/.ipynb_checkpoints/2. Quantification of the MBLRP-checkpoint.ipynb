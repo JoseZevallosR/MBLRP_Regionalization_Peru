{
 "cells": [
  {
   "cell_type": "code",
   "execution_count": 4,
   "id": "460193b0-7ad7-4bc7-bb1d-0ca0248f347a",
   "metadata": {},
   "outputs": [],
   "source": [
    "options(warn=0)\n",
    "rm(list = ls())\n",
    "source('D:/Proyectos_GitHub/MBLRP_Regionalization_Peru/src/RMBLRP.R')"
   ]
  },
  {
   "cell_type": "code",
   "execution_count": null,
   "id": "58769400-762a-4116-acb7-d7d568accf52",
   "metadata": {},
   "outputs": [
    {
     "data": {
      "text/html": [
       "<style>\n",
       ".list-inline {list-style: none; margin:0; padding: 0}\n",
       ".list-inline>li {display: inline-block}\n",
       ".list-inline>li:not(:last-child)::after {content: \"\\00b7\"; padding: 0 .5ex}\n",
       "</style>\n",
       "<ol class=list-inline><li>215</li><li>22</li></ol>\n"
      ],
      "text/latex": [
       "\\begin{enumerate*}\n",
       "\\item 215\n",
       "\\item 22\n",
       "\\end{enumerate*}\n"
      ],
      "text/markdown": [
       "1. 215\n",
       "2. 22\n",
       "\n",
       "\n"
      ],
      "text/plain": [
       "[1] 215  22"
      ]
     },
     "metadata": {},
     "output_type": "display_data"
    }
   ],
   "source": [
    "gauge_stats=read.csv('D:/Proyectos_GitHub/MBLRP_Regionalization_Peru/data/feb_gauge_stat.csv')\n",
    "gauge_stats=filter_Neigbors(gauge_stats)\n",
    "dim(gauge_stats)\n",
    "maps=run(rain_stats=gauge_stats,path=\"D:/Proyectos_GitHub/MBLRP_Regionalization_Peru/output/CV_parameters/\",iterations=5,FILE_NAME='parameters_feb.csv')"
   ]
  },
  {
   "cell_type": "code",
   "execution_count": null,
   "id": "91397b4d-bd12-4b62-8e24-45ceb8fdecc2",
   "metadata": {},
   "outputs": [],
   "source": []
  }
 ],
 "metadata": {
  "kernelspec": {
   "display_name": "R",
   "language": "R",
   "name": "ir"
  },
  "language_info": {
   "codemirror_mode": "r",
   "file_extension": ".r",
   "mimetype": "text/x-r-source",
   "name": "R",
   "pygments_lexer": "r",
   "version": "4.1.3"
  }
 },
 "nbformat": 4,
 "nbformat_minor": 5
}
